{
 "cells": [
  {
   "cell_type": "markdown",
   "metadata": {},
   "source": [
    "\n",
    "<h1> DS200A Computer Vision Assignment</h1>"
   ]
  },
  {
   "cell_type": "markdown",
   "metadata": {},
   "source": [
    "<h2>  Part Three: Classifier training and performance assessment. </h2>\t"
   ]
  },
  {
   "cell_type": "code",
   "execution_count": 1,
   "metadata": {},
   "outputs": [],
   "source": [
    "#Import anything you need here\n",
    "# !pip install opencv-python\n",
    "import numpy as np\n",
    "import matplotlib.pyplot as plt\n",
    "import pandas as pd\n",
    "import matplotlib\n",
    "import skimage\n",
    "from PIL import Image\n",
    "\n",
    "from skimage import data\n",
    "from skimage import io\n",
    "import os\n",
    "from skimage.io import imread_collection\n",
    "from skimage.io import imread\n",
    "import zipfile\n",
    "import matplotlib.image as mpimg\n",
    "import cv2\n",
    "\n",
    "from sklearn.cluster import KMeans\n",
    "from skimage import measure\n",
    "import numpy as np\n",
    "import imageio\n",
    "import warnings\n",
    "import matplotlib.cbook\n",
    "\n",
    "from PIL import Image\n",
    "from fractions import Fraction\n",
    "import seaborn as sns\n",
    "from sklearn.model_selection import cross_validate"
   ]
  },
  {
   "cell_type": "code",
   "execution_count": 2,
   "metadata": {},
   "outputs": [],
   "source": [
    "from sklearn.model_selection import train_test_split\n",
    "\n",
    "def train_test_split_2(df):\n",
    "    train, val = train_test_split(df, test_size=0.1, random_state=42)\n",
    "    return df\n",
    "#Split the data into a training set, and test set \n",
    "def accuracy(pred, actual):\n",
    "    \n",
    "    return 0\n",
    "# Calculate the accuracy percentage of the predicted values"
   ]
  },
  {
   "cell_type": "markdown",
   "metadata": {},
   "source": [
    "<h3>  Train models using all of the following methods below. Be sure to drop the actual image column, and the encoding</h3>\tTake note of the differences in accuracy, and methods.\n"
   ]
  },
  {
   "cell_type": "code",
   "execution_count": 3,
   "metadata": {},
   "outputs": [],
   "source": [
    "feature_frame = pd.read_pickle('feature_frame.pk1')"
   ]
  },
  {
   "cell_type": "code",
   "execution_count": 4,
   "metadata": {},
   "outputs": [],
   "source": [
    "train, val = train_test_split(feature_frame, test_size=0.1, random_state=42)"
   ]
  },
  {
   "cell_type": "markdown",
   "metadata": {},
   "source": [
    "Logistic Regression"
   ]
  },
  {
   "cell_type": "code",
   "execution_count": 5,
   "metadata": {},
   "outputs": [
    {
     "data": {
      "text/plain": [
       "Index(['Pictures', 'Encoding', 'Images', 'ft0', 'ft1', 'ft2', 'ft3', 'ft4',\n",
       "       'ft9', 'ft13', 'ft14'],\n",
       "      dtype='object')"
      ]
     },
     "execution_count": 5,
     "metadata": {},
     "output_type": "execute_result"
    }
   ],
   "source": [
    "train.columns"
   ]
  },
  {
   "cell_type": "code",
   "execution_count": 6,
   "metadata": {},
   "outputs": [
    {
     "data": {
      "text/html": [
       "<div>\n",
       "<style scoped>\n",
       "    .dataframe tbody tr th:only-of-type {\n",
       "        vertical-align: middle;\n",
       "    }\n",
       "\n",
       "    .dataframe tbody tr th {\n",
       "        vertical-align: top;\n",
       "    }\n",
       "\n",
       "    .dataframe thead th {\n",
       "        text-align: right;\n",
       "    }\n",
       "</style>\n",
       "<table border=\"1\" class=\"dataframe\">\n",
       "  <thead>\n",
       "    <tr style=\"text-align: right;\">\n",
       "      <th></th>\n",
       "      <th>ft0</th>\n",
       "      <th>ft1</th>\n",
       "      <th>ft2</th>\n",
       "      <th>ft3</th>\n",
       "      <th>ft4</th>\n",
       "      <th>ft9</th>\n",
       "      <th>ft13</th>\n",
       "    </tr>\n",
       "  </thead>\n",
       "  <tbody>\n",
       "    <tr>\n",
       "      <td>1091</td>\n",
       "      <td>(1600, 1200)</td>\n",
       "      <td>141.865891</td>\n",
       "      <td>1.333333</td>\n",
       "      <td>145.102468</td>\n",
       "      <td>141.365438</td>\n",
       "      <td>1920000</td>\n",
       "      <td>60.757454</td>\n",
       "    </tr>\n",
       "    <tr>\n",
       "      <td>1150</td>\n",
       "      <td>(695, 421)</td>\n",
       "      <td>99.639662</td>\n",
       "      <td>1.650831</td>\n",
       "      <td>76.053555</td>\n",
       "      <td>99.706697</td>\n",
       "      <td>292595</td>\n",
       "      <td>88.843627</td>\n",
       "    </tr>\n",
       "    <tr>\n",
       "      <td>1467</td>\n",
       "      <td>(480, 313)</td>\n",
       "      <td>171.792632</td>\n",
       "      <td>1.533546</td>\n",
       "      <td>212.401411</td>\n",
       "      <td>203.883533</td>\n",
       "      <td>150240</td>\n",
       "      <td>27.130666</td>\n",
       "    </tr>\n",
       "    <tr>\n",
       "      <td>526</td>\n",
       "      <td>(200, 273)</td>\n",
       "      <td>140.572766</td>\n",
       "      <td>0.732601</td>\n",
       "      <td>150.120531</td>\n",
       "      <td>150.788498</td>\n",
       "      <td>54600</td>\n",
       "      <td>60.407517</td>\n",
       "    </tr>\n",
       "    <tr>\n",
       "      <td>1314</td>\n",
       "      <td>(698, 1001)</td>\n",
       "      <td>167.074393</td>\n",
       "      <td>0.697303</td>\n",
       "      <td>174.355816</td>\n",
       "      <td>161.909792</td>\n",
       "      <td>698698</td>\n",
       "      <td>53.831960</td>\n",
       "    </tr>\n",
       "  </tbody>\n",
       "</table>\n",
       "</div>"
      ],
      "text/plain": [
       "               ft0         ft1       ft2         ft3         ft4      ft9  \\\n",
       "1091  (1600, 1200)  141.865891  1.333333  145.102468  141.365438  1920000   \n",
       "1150    (695, 421)   99.639662  1.650831   76.053555   99.706697   292595   \n",
       "1467    (480, 313)  171.792632  1.533546  212.401411  203.883533   150240   \n",
       "526     (200, 273)  140.572766  0.732601  150.120531  150.788498    54600   \n",
       "1314   (698, 1001)  167.074393  0.697303  174.355816  161.909792   698698   \n",
       "\n",
       "           ft13  \n",
       "1091  60.757454  \n",
       "1150  88.843627  \n",
       "1467  27.130666  \n",
       "526   60.407517  \n",
       "1314  53.831960  "
      ]
     },
     "execution_count": 6,
     "metadata": {},
     "output_type": "execute_result"
    }
   ],
   "source": [
    "train[['ft0', 'ft1', 'ft2', 'ft3', 'ft4', 'ft9', 'ft13', ]].head()"
   ]
  },
  {
   "cell_type": "code",
   "execution_count": 7,
   "metadata": {},
   "outputs": [],
   "source": [
    "X_train = train[['ft1', 'ft2', 'ft3', 'ft4', 'ft9', 'ft13']]\n",
    "Y_train = train[['Encoding']]"
   ]
  },
  {
   "cell_type": "code",
   "execution_count": 8,
   "metadata": {},
   "outputs": [
    {
     "name": "stderr",
     "output_type": "stream",
     "text": [
      "/Users/clairedmedina/opt/anaconda3/lib/python3.7/site-packages/sklearn/linear_model/logistic.py:432: FutureWarning: Default solver will be changed to 'lbfgs' in 0.22. Specify a solver to silence this warning.\n",
      "  FutureWarning)\n",
      "/Users/clairedmedina/opt/anaconda3/lib/python3.7/site-packages/sklearn/utils/validation.py:724: DataConversionWarning: A column-vector y was passed when a 1d array was expected. Please change the shape of y to (n_samples, ), for example using ravel().\n",
      "  y = column_or_1d(y, warn=True)\n",
      "/Users/clairedmedina/opt/anaconda3/lib/python3.7/site-packages/sklearn/linear_model/logistic.py:469: FutureWarning: Default multi_class will be changed to 'auto' in 0.22. Specify the multi_class option to silence this warning.\n",
      "  \"this warning.\", FutureWarning)\n"
     ]
    },
    {
     "name": "stdout",
     "output_type": "stream",
     "text": [
      "Training Accuracy:  0.2985185185185185\n"
     ]
    }
   ],
   "source": [
    "from sklearn.linear_model import LogisticRegression\n",
    "\n",
    "model = LogisticRegression() # SOLUTION\n",
    "model.fit(X_train, Y_train) # SOLUTION\n",
    "\n",
    "training_accuracy = model.score(X_train, Y_train) # SOLUTION\n",
    "print(\"Training Accuracy: \", training_accuracy)"
   ]
  },
  {
   "cell_type": "markdown",
   "metadata": {},
   "source": [
    "K-nearest Neighbors"
   ]
  },
  {
   "cell_type": "code",
   "execution_count": 9,
   "metadata": {},
   "outputs": [
    {
     "data": {
      "text/plain": [
       "KNeighborsClassifier(algorithm='auto', leaf_size=30, metric='minkowski',\n",
       "                     metric_params=None, n_jobs=None, n_neighbors=3, p=2,\n",
       "                     weights='uniform')"
      ]
     },
     "execution_count": 9,
     "metadata": {},
     "output_type": "execute_result"
    }
   ],
   "source": [
    "from sklearn.neighbors import KNeighborsClassifier\n",
    "knn_model = KNeighborsClassifier(n_neighbors=3)\n",
    "knn_model.fit(X_train, Y_train['Encoding'])\n"
   ]
  },
  {
   "cell_type": "code",
   "execution_count": 10,
   "metadata": {},
   "outputs": [
    {
     "data": {
      "text/plain": [
       "0.5"
      ]
     },
     "execution_count": 10,
     "metadata": {},
     "output_type": "execute_result"
    }
   ],
   "source": [
    "knn_model.score(X_train, Y_train[\"Encoding\"], sample_weight=None)"
   ]
  },
  {
   "cell_type": "markdown",
   "metadata": {},
   "source": [
    "Classification Tree"
   ]
  },
  {
   "cell_type": "code",
   "execution_count": 11,
   "metadata": {},
   "outputs": [],
   "source": [
    "from sklearn import tree\n",
    "clf_model = tree.DecisionTreeClassifier(max_depth=8, random_state=42)\n",
    "clf_model = clf_model.fit(X_train, Y_train['Encoding'])"
   ]
  },
  {
   "cell_type": "code",
   "execution_count": 12,
   "metadata": {},
   "outputs": [
    {
     "data": {
      "text/plain": [
       "0.43333333333333335"
      ]
     },
     "execution_count": 12,
     "metadata": {},
     "output_type": "execute_result"
    }
   ],
   "source": [
    "clf_model.score(X_train, Y_train[\"Encoding\"])"
   ]
  },
  {
   "cell_type": "markdown",
   "metadata": {},
   "source": [
    "Random Forest"
   ]
  },
  {
   "cell_type": "code",
   "execution_count": 13,
   "metadata": {},
   "outputs": [],
   "source": [
    "from sklearn import ensemble"
   ]
  },
  {
   "cell_type": "code",
   "execution_count": 14,
   "metadata": {
    "scrolled": false
   },
   "outputs": [
    {
     "data": {
      "text/plain": [
       "RandomForestClassifier(bootstrap=True, class_weight=None, criterion='gini',\n",
       "                       max_depth=None, max_features='auto', max_leaf_nodes=None,\n",
       "                       min_impurity_decrease=0.0, min_impurity_split=None,\n",
       "                       min_samples_leaf=1, min_samples_split=2,\n",
       "                       min_weight_fraction_leaf=0.0, n_estimators=10,\n",
       "                       n_jobs=None, oob_score=False, random_state=42, verbose=0,\n",
       "                       warm_start=False)"
      ]
     },
     "execution_count": 14,
     "metadata": {},
     "output_type": "execute_result"
    }
   ],
   "source": [
    "random_forest_model = ensemble.RandomForestClassifier(n_estimators=10, random_state=42) # SOLUTION\n",
    "random_forest_model.fit(X_train, Y_train['Encoding']) # SOLUTION"
   ]
  },
  {
   "cell_type": "code",
   "execution_count": 15,
   "metadata": {},
   "outputs": [
    {
     "data": {
      "text/plain": [
       "0.9925925925925926"
      ]
     },
     "execution_count": 15,
     "metadata": {},
     "output_type": "execute_result"
    }
   ],
   "source": [
    "rf_train_accuracy = random_forest_model.score(X_train, Y_train)\n",
    "rf_train_accuracy"
   ]
  },
  {
   "cell_type": "markdown",
   "metadata": {},
   "source": [
    "Support Vector Machine"
   ]
  },
  {
   "cell_type": "code",
   "execution_count": 16,
   "metadata": {},
   "outputs": [
    {
     "data": {
      "text/plain": [
       "array([14, 14, 19, ..., 11, 19, 14])"
      ]
     },
     "execution_count": 16,
     "metadata": {},
     "output_type": "execute_result"
    }
   ],
   "source": [
    "from sklearn import svm\n",
    "np.array(Y_train[\"Encoding\"])"
   ]
  },
  {
   "cell_type": "code",
   "execution_count": 17,
   "metadata": {},
   "outputs": [
    {
     "name": "stderr",
     "output_type": "stream",
     "text": [
      "/Users/clairedmedina/opt/anaconda3/lib/python3.7/site-packages/sklearn/utils/validation.py:724: DataConversionWarning: A column-vector y was passed when a 1d array was expected. Please change the shape of y to (n_samples, ), for example using ravel().\n",
      "  y = column_or_1d(y, warn=True)\n",
      "/Users/clairedmedina/opt/anaconda3/lib/python3.7/site-packages/sklearn/svm/base.py:193: FutureWarning: The default value of gamma will change from 'auto' to 'scale' in version 0.22 to account better for unscaled features. Set gamma explicitly to 'auto' or 'scale' to avoid this warning.\n",
      "  \"avoid this warning.\", FutureWarning)\n"
     ]
    },
    {
     "data": {
      "text/plain": [
       "SVC(C=1.0, cache_size=200, class_weight=None, coef0=0.0,\n",
       "    decision_function_shape='ovo', degree=3, gamma='auto_deprecated',\n",
       "    kernel='rbf', max_iter=-1, probability=False, random_state=None,\n",
       "    shrinking=True, tol=0.001, verbose=False)"
      ]
     },
     "execution_count": 17,
     "metadata": {},
     "output_type": "execute_result"
    }
   ],
   "source": [
    "svm_model = svm.SVC(decision_function_shape='ovo')\n",
    "svm_model.fit(X_train, Y_train)"
   ]
  },
  {
   "cell_type": "code",
   "execution_count": 18,
   "metadata": {},
   "outputs": [
    {
     "data": {
      "text/plain": [
       "1.0"
      ]
     },
     "execution_count": 18,
     "metadata": {},
     "output_type": "execute_result"
    }
   ],
   "source": [
    "svm_model.score(X_train, Y_train['Encoding'])"
   ]
  },
  {
   "cell_type": "markdown",
   "metadata": {},
   "source": [
    "<h4> Cross Validation <h4> "
   ]
  },
  {
   "cell_type": "code",
   "execution_count": 19,
   "metadata": {},
   "outputs": [
    {
     "data": {
      "text/plain": [
       "{'fit_time': array([0.05514789, 0.04544306, 0.04335093, 0.04030895, 0.042454  ]),\n",
       " 'score_time': array([0.00406599, 0.00406194, 0.00365114, 0.00293922, 0.00338578]),\n",
       " 'test_score': array([0.32014388, 0.32720588, 0.32713755, 0.25746269, 0.30418251])}"
      ]
     },
     "execution_count": 19,
     "metadata": {},
     "output_type": "execute_result"
    }
   ],
   "source": [
    "cv_results_random_f = cross_validate(random_forest_model, X_train, Y_train[\"Encoding\"], cv=5)\n",
    "cv_results_random_f"
   ]
  },
  {
   "cell_type": "code",
   "execution_count": 20,
   "metadata": {},
   "outputs": [
    {
     "data": {
      "text/plain": [
       "{'fit_time': array([0.00389194, 0.00292015, 0.00721693, 0.00450993, 0.00293827]),\n",
       " 'score_time': array([0.01355481, 0.01312399, 0.01733899, 0.0133431 , 0.01072097]),\n",
       " 'test_score': array([0.17625899, 0.21691176, 0.20817844, 0.19029851, 0.18631179])}"
      ]
     },
     "execution_count": 20,
     "metadata": {},
     "output_type": "execute_result"
    }
   ],
   "source": [
    "cv_knn = cross_validate(knn_model, X_train, Y_train[\"Encoding\"], cv=5)\n",
    "cv_knn"
   ]
  },
  {
   "cell_type": "code",
   "execution_count": 21,
   "metadata": {},
   "outputs": [
    {
     "name": "stderr",
     "output_type": "stream",
     "text": [
      "/Users/clairedmedina/opt/anaconda3/lib/python3.7/site-packages/sklearn/linear_model/logistic.py:432: FutureWarning: Default solver will be changed to 'lbfgs' in 0.22. Specify a solver to silence this warning.\n",
      "  FutureWarning)\n",
      "/Users/clairedmedina/opt/anaconda3/lib/python3.7/site-packages/sklearn/linear_model/logistic.py:469: FutureWarning: Default multi_class will be changed to 'auto' in 0.22. Specify the multi_class option to silence this warning.\n",
      "  \"this warning.\", FutureWarning)\n",
      "/Users/clairedmedina/opt/anaconda3/lib/python3.7/site-packages/sklearn/linear_model/logistic.py:432: FutureWarning: Default solver will be changed to 'lbfgs' in 0.22. Specify a solver to silence this warning.\n",
      "  FutureWarning)\n",
      "/Users/clairedmedina/opt/anaconda3/lib/python3.7/site-packages/sklearn/linear_model/logistic.py:469: FutureWarning: Default multi_class will be changed to 'auto' in 0.22. Specify the multi_class option to silence this warning.\n",
      "  \"this warning.\", FutureWarning)\n",
      "/Users/clairedmedina/opt/anaconda3/lib/python3.7/site-packages/sklearn/linear_model/logistic.py:432: FutureWarning: Default solver will be changed to 'lbfgs' in 0.22. Specify a solver to silence this warning.\n",
      "  FutureWarning)\n",
      "/Users/clairedmedina/opt/anaconda3/lib/python3.7/site-packages/sklearn/linear_model/logistic.py:469: FutureWarning: Default multi_class will be changed to 'auto' in 0.22. Specify the multi_class option to silence this warning.\n",
      "  \"this warning.\", FutureWarning)\n",
      "/Users/clairedmedina/opt/anaconda3/lib/python3.7/site-packages/sklearn/linear_model/logistic.py:432: FutureWarning: Default solver will be changed to 'lbfgs' in 0.22. Specify a solver to silence this warning.\n",
      "  FutureWarning)\n",
      "/Users/clairedmedina/opt/anaconda3/lib/python3.7/site-packages/sklearn/linear_model/logistic.py:469: FutureWarning: Default multi_class will be changed to 'auto' in 0.22. Specify the multi_class option to silence this warning.\n",
      "  \"this warning.\", FutureWarning)\n",
      "/Users/clairedmedina/opt/anaconda3/lib/python3.7/site-packages/sklearn/linear_model/logistic.py:432: FutureWarning: Default solver will be changed to 'lbfgs' in 0.22. Specify a solver to silence this warning.\n",
      "  FutureWarning)\n",
      "/Users/clairedmedina/opt/anaconda3/lib/python3.7/site-packages/sklearn/linear_model/logistic.py:469: FutureWarning: Default multi_class will be changed to 'auto' in 0.22. Specify the multi_class option to silence this warning.\n",
      "  \"this warning.\", FutureWarning)\n"
     ]
    },
    {
     "data": {
      "text/plain": [
       "{'fit_time': array([0.08389497, 0.06725597, 0.07586002, 0.08479381, 0.08005929]),\n",
       " 'score_time': array([0.00464892, 0.0012238 , 0.00226808, 0.00157905, 0.00158381]),\n",
       " 'test_score': array([0.30215827, 0.32352941, 0.28624535, 0.28358209, 0.2851711 ])}"
      ]
     },
     "execution_count": 21,
     "metadata": {},
     "output_type": "execute_result"
    }
   ],
   "source": [
    "cv_logistic = cross_validate(model, X_train, Y_train[\"Encoding\"], cv=5)\n",
    "cv_logistic"
   ]
  },
  {
   "cell_type": "code",
   "execution_count": 22,
   "metadata": {},
   "outputs": [
    {
     "data": {
      "text/plain": [
       "{'fit_time': array([0.01321292, 0.01329994, 0.01545   , 0.01620889, 0.017699  ]),\n",
       " 'score_time': array([0.00224304, 0.0033052 , 0.00312901, 0.00203323, 0.00353193]),\n",
       " 'test_score': array([0.30215827, 0.32352941, 0.30855019, 0.30223881, 0.30418251])}"
      ]
     },
     "execution_count": 22,
     "metadata": {},
     "output_type": "execute_result"
    }
   ],
   "source": [
    "cv_clf = cross_validate(clf_model, X_train, Y_train[\"Encoding\"], cv=5)\n",
    "cv_clf\n"
   ]
  },
  {
   "cell_type": "code",
   "execution_count": 23,
   "metadata": {},
   "outputs": [
    {
     "name": "stderr",
     "output_type": "stream",
     "text": [
      "/Users/clairedmedina/opt/anaconda3/lib/python3.7/site-packages/sklearn/svm/base.py:193: FutureWarning: The default value of gamma will change from 'auto' to 'scale' in version 0.22 to account better for unscaled features. Set gamma explicitly to 'auto' or 'scale' to avoid this warning.\n",
      "  \"avoid this warning.\", FutureWarning)\n",
      "/Users/clairedmedina/opt/anaconda3/lib/python3.7/site-packages/sklearn/svm/base.py:193: FutureWarning: The default value of gamma will change from 'auto' to 'scale' in version 0.22 to account better for unscaled features. Set gamma explicitly to 'auto' or 'scale' to avoid this warning.\n",
      "  \"avoid this warning.\", FutureWarning)\n",
      "/Users/clairedmedina/opt/anaconda3/lib/python3.7/site-packages/sklearn/svm/base.py:193: FutureWarning: The default value of gamma will change from 'auto' to 'scale' in version 0.22 to account better for unscaled features. Set gamma explicitly to 'auto' or 'scale' to avoid this warning.\n",
      "  \"avoid this warning.\", FutureWarning)\n",
      "/Users/clairedmedina/opt/anaconda3/lib/python3.7/site-packages/sklearn/svm/base.py:193: FutureWarning: The default value of gamma will change from 'auto' to 'scale' in version 0.22 to account better for unscaled features. Set gamma explicitly to 'auto' or 'scale' to avoid this warning.\n",
      "  \"avoid this warning.\", FutureWarning)\n",
      "/Users/clairedmedina/opt/anaconda3/lib/python3.7/site-packages/sklearn/svm/base.py:193: FutureWarning: The default value of gamma will change from 'auto' to 'scale' in version 0.22 to account better for unscaled features. Set gamma explicitly to 'auto' or 'scale' to avoid this warning.\n",
      "  \"avoid this warning.\", FutureWarning)\n"
     ]
    },
    {
     "data": {
      "text/plain": [
       "{'fit_time': array([0.09015083, 0.07659197, 0.07497525, 0.07559013, 0.06861496]),\n",
       " 'score_time': array([0.0135181 , 0.00962496, 0.0123558 , 0.00998688, 0.01026416]),\n",
       " 'test_score': array([0.13309353, 0.15073529, 0.133829  , 0.1380597 , 0.14068441])}"
      ]
     },
     "execution_count": 23,
     "metadata": {},
     "output_type": "execute_result"
    }
   ],
   "source": [
    "cv_svm = cross_validate(svm_model, X_train, Y_train[\"Encoding\"], cv=5)\n",
    "cv_svm"
   ]
  },
  {
   "cell_type": "markdown",
   "metadata": {},
   "source": [
    "<h4> Misclassification rates on the validation sets <h4>"
   ]
  },
  {
   "cell_type": "code",
   "execution_count": 24,
   "metadata": {},
   "outputs": [],
   "source": [
    "X_val = val[['ft1', 'ft2', 'ft3', 'ft4', 'ft9', 'ft13']]\n",
    "Y_val = val['Encoding']"
   ]
  },
  {
   "cell_type": "code",
   "execution_count": 25,
   "metadata": {},
   "outputs": [
    {
     "data": {
      "text/plain": [
       "array([ 9, 19, 13, 15, 11,  9, 16, 14,  9, 11, 12, 14, 16, 18,  0,  1,  8,\n",
       "       16,  9,  0,  2,  9, 19, 14, 17,  0, 19, 11, 10,  2, 11,  2, 10,  8,\n",
       "        3, 10, 14,  0,  8,  0, 13, 11,  8,  6, 10,  8,  9,  3,  8,  9,  8,\n",
       "       19, 15, 13,  9, 10,  0,  2, 16, 12, 12,  9,  9,  0, 11,  1,  8, 10,\n",
       "       10, 13,  9, 10, 10, 19, 13,  9, 14,  9,  8, 12, 16,  0,  3, 16,  9,\n",
       "        0, 19, 11, 13,  9,  9,  9,  3, 14, 16, 11,  6, 17,  8, 19, 12, 10,\n",
       "       13,  2, 13,  0,  0, 12,  0, 12,  6, 19, 10,  3, 18,  6, 13, 19, 19,\n",
       "       14, 12, 16, 10, 14, 10, 19, 10,  9, 10,  6,  8,  0, 15,  9, 18,  0,\n",
       "       14,  9, 19,  3, 13,  9, 19, 14, 10, 12, 10, 19, 16, 16, 12])"
      ]
     },
     "execution_count": 25,
     "metadata": {},
     "output_type": "execute_result"
    }
   ],
   "source": [
    "clf_pred = clf_model.predict(X_val)\n",
    "clf_pred"
   ]
  },
  {
   "cell_type": "code",
   "execution_count": 26,
   "metadata": {},
   "outputs": [
    {
     "data": {
      "text/plain": [
       "0.6821192052980133"
      ]
     },
     "execution_count": 26,
     "metadata": {},
     "output_type": "execute_result"
    }
   ],
   "source": [
    "np.mean(clf_pred != Y_val)"
   ]
  },
  {
   "cell_type": "code",
   "execution_count": 27,
   "metadata": {},
   "outputs": [
    {
     "data": {
      "text/plain": [
       "array([ 9,  9,  4, 12,  6,  9,  0, 16,  9,  9, 12, 14,  0,  9,  0, 16, 14,\n",
       "       16,  9,  0,  0,  9,  9, 16, 17,  0, 19,  9,  9, 14,  6, 14,  9, 17,\n",
       "        3,  9,  2, 14, 14,  9,  9,  6, 14,  6,  9,  9,  9,  3,  2,  9,  9,\n",
       "        9, 14,  9,  9,  9,  0,  0,  0, 12, 12,  9,  0,  9,  6,  9, 14,  9,\n",
       "        0,  9, 12,  9,  9, 16,  9,  9, 14, 14,  0, 12, 16,  9,  3,  0,  9,\n",
       "        0,  9,  6,  0,  9,  9, 12,  3, 16,  0,  6,  6, 16, 14,  9, 12,  9,\n",
       "        0,  2,  0,  9,  0, 12,  0, 12,  6,  9,  9,  3, 14,  9,  0,  9,  9,\n",
       "       14, 12, 16,  9, 14,  9,  9,  9,  9,  9,  6,  9,  9,  3, 12,  9,  0,\n",
       "       14,  9,  9,  3,  0,  9,  9,  3, 16, 12,  9,  9,  0, 12, 12])"
      ]
     },
     "execution_count": 27,
     "metadata": {},
     "output_type": "execute_result"
    }
   ],
   "source": [
    "logistic_pred = model.predict(X_val)\n",
    "logistic_pred"
   ]
  },
  {
   "cell_type": "code",
   "execution_count": 28,
   "metadata": {},
   "outputs": [
    {
     "data": {
      "text/plain": [
       "0.6622516556291391"
      ]
     },
     "execution_count": 28,
     "metadata": {},
     "output_type": "execute_result"
    }
   ],
   "source": [
    "np.mean(logistic_pred != Y_val)"
   ]
  },
  {
   "cell_type": "code",
   "execution_count": 29,
   "metadata": {},
   "outputs": [
    {
     "data": {
      "text/plain": [
       "array([ 2,  9,  7,  8, 11,  4, 18,  1,  5,  9, 12,  3, 10,  4,  1, 14,  2,\n",
       "        1,  6,  0,  5,  9,  5,  1,  3,  9,  7,  8, 10,  5,  1,  1,  0, 17,\n",
       "        9, 10,  2,  8, 19,  0, 13,  2,  1,  1,  9,  1,  8,  6,  6, 13,  8,\n",
       "        5,  8,  0,  9,  9,  0,  5,  3, 12, 12,  9,  9, 10,  0, 11,  3,  4,\n",
       "        0,  9,  1,  7, 13,  7,  0,  2, 14,  8,  0, 12,  2,  4,  6,  0,  9,\n",
       "       13,  2,  9, 11,  9,  4,  3, 13,  3,  1,  0, 11,  5, 11,  9, 12,  9,\n",
       "       10,  9,  5,  7,  0, 12, 13, 12, 10,  9,  0,  8,  1,  0,  3,  0,  6,\n",
       "        7, 12,  9,  0, 14,  2,  2,  0,  2,  0,  5,  5,  0,  1,  1,  1,  2,\n",
       "        4,  5,  5,  9,  4,  1,  5,  1,  4, 12,  4,  2,  0,  4, 12])"
      ]
     },
     "execution_count": 29,
     "metadata": {},
     "output_type": "execute_result"
    }
   ],
   "source": [
    "knn_pred = knn_model.predict(X_val)\n",
    "knn_pred"
   ]
  },
  {
   "cell_type": "code",
   "execution_count": 30,
   "metadata": {},
   "outputs": [
    {
     "data": {
      "text/plain": [
       "0.8079470198675497"
      ]
     },
     "execution_count": 30,
     "metadata": {},
     "output_type": "execute_result"
    }
   ],
   "source": [
    "np.mean(knn_pred != Y_val)"
   ]
  },
  {
   "cell_type": "code",
   "execution_count": 31,
   "metadata": {},
   "outputs": [
    {
     "data": {
      "text/plain": [
       "array([ 9,  8,  6, 17, 11, 15, 17, 17,  3, 15, 12, 13,  5, 18,  0,  8,  7,\n",
       "       16,  9,  0,  4,  9,  5,  5,  2,  0,  5,  7,  7,  0, 11,  2, 10,  1,\n",
       "        3,  4,  2,  0,  7,  0, 13,  6, 14,  2,  9,  5,  9,  3, 11,  3,  8,\n",
       "       15,  9, 13,  9,  9,  0,  2, 16, 12, 12,  8,  7,  0, 11,  1,  7,  9,\n",
       "       10,  4,  9,  9, 13,  5, 13,  8, 14,  9,  8, 12, 16,  0,  3,  5,  9,\n",
       "        0,  7, 11,  4,  9,  9,  1,  3, 18, 16,  6,  6,  7,  7,  4, 12, 19,\n",
       "        1,  2, 13,  0,  0, 12,  0, 12,  6,  9,  9,  3, 18,  6, 10,  5, 15,\n",
       "        7, 12, 16,  8,  2, 10,  9, 13, 16,  9, 14,  1,  0, 15,  5,  1,  0,\n",
       "        8,  9,  4,  9, 10,  1,  9,  4, 10, 12,  9, 10,  5,  6, 12])"
      ]
     },
     "execution_count": 31,
     "metadata": {},
     "output_type": "execute_result"
    }
   ],
   "source": [
    "rfm_pred = random_forest_model.predict(X_val)\n",
    "rfm_pred"
   ]
  },
  {
   "cell_type": "code",
   "execution_count": 32,
   "metadata": {},
   "outputs": [
    {
     "data": {
      "text/plain": [
       "0.6688741721854304"
      ]
     },
     "execution_count": 32,
     "metadata": {},
     "output_type": "execute_result"
    }
   ],
   "source": [
    "np.mean(rfm_pred != Y_val)"
   ]
  },
  {
   "cell_type": "code",
   "execution_count": 33,
   "metadata": {},
   "outputs": [
    {
     "data": {
      "text/plain": [
       "array([ 9,  9,  9,  9,  9,  9,  9,  9,  9,  9, 12,  9,  9,  9,  9,  9,  9,\n",
       "        9,  9,  9,  9,  9,  9,  9,  9,  9,  9,  9,  9,  9,  9,  9,  9,  9,\n",
       "        9,  9,  9,  9,  9,  9,  9,  9,  9,  9,  9,  9,  9,  9,  9,  9,  9,\n",
       "        9,  9,  9,  9,  9,  9,  9,  9,  9,  9,  9,  9,  9,  9,  9,  9,  9,\n",
       "        9,  9,  9,  9,  9,  9,  9,  9,  9,  9,  9,  9,  9,  9,  9,  9,  9,\n",
       "        9,  9,  9,  9,  9,  9,  9,  9,  9,  9,  9,  9,  9,  9,  9, 12,  9,\n",
       "        9,  9,  9,  9,  9,  9,  9, 12,  9,  9,  9,  9,  9,  9,  9,  9,  9,\n",
       "        9, 12,  9,  9,  9,  9,  9,  9,  9,  9,  9,  9,  9,  9,  9,  9,  9,\n",
       "        9,  9,  9,  9,  9,  9,  9,  9,  9,  9,  9,  9,  9,  9, 12])"
      ]
     },
     "execution_count": 33,
     "metadata": {},
     "output_type": "execute_result"
    }
   ],
   "source": [
    "svm_pred = svm_model.predict(X_val)\n",
    "svm_pred"
   ]
  },
  {
   "cell_type": "code",
   "execution_count": 34,
   "metadata": {},
   "outputs": [
    {
     "data": {
      "text/plain": [
       "0.8874172185430463"
      ]
     },
     "execution_count": 34,
     "metadata": {},
     "output_type": "execute_result"
    }
   ],
   "source": [
    "np.mean(svm_pred != Y_val)"
   ]
  },
  {
   "cell_type": "markdown",
   "metadata": {},
   "source": [
    "<h4> Image Class Predictions for Test Set <h4>"
   ]
  },
  {
   "cell_type": "code",
   "execution_count": 35,
   "metadata": {},
   "outputs": [],
   "source": [
    "val_feature_frame = pd.read_pickle('validation_feature_frame.pk1')"
   ]
  },
  {
   "cell_type": "code",
   "execution_count": 37,
   "metadata": {},
   "outputs": [
    {
     "data": {
      "text/plain": [
       "Index(['Pictures', 'Images', 'ft0', 'ft1', 'ft2', 'ft3', 'ft4', 'ft9', 'ft13',\n",
       "       'ft14'],\n",
       "      dtype='object')"
      ]
     },
     "execution_count": 37,
     "metadata": {},
     "output_type": "execute_result"
    }
   ],
   "source": [
    "val_feature_frame.columns"
   ]
  },
  {
   "cell_type": "code",
   "execution_count": 38,
   "metadata": {},
   "outputs": [],
   "source": [
    "X_test = val_feature_frame[['ft1', 'ft2', 'ft3', 'ft4', 'ft9', 'ft13']]"
   ]
  },
  {
   "cell_type": "code",
   "execution_count": 44,
   "metadata": {},
   "outputs": [],
   "source": [
    "final_pred_encoding = random_forest_model.predict(X_test)"
   ]
  },
  {
   "cell_type": "code",
   "execution_count": 42,
   "metadata": {},
   "outputs": [],
   "source": [
    "final_pred = val_feature_frame[['Pictures']]"
   ]
  },
  {
   "cell_type": "code",
   "execution_count": 45,
   "metadata": {},
   "outputs": [
    {
     "name": "stderr",
     "output_type": "stream",
     "text": [
      "/Users/clairedmedina/opt/anaconda3/lib/python3.7/site-packages/ipykernel_launcher.py:1: SettingWithCopyWarning: \n",
      "A value is trying to be set on a copy of a slice from a DataFrame.\n",
      "Try using .loc[row_indexer,col_indexer] = value instead\n",
      "\n",
      "See the caveats in the documentation: http://pandas.pydata.org/pandas-docs/stable/user_guide/indexing.html#returning-a-view-versus-a-copy\n",
      "  \"\"\"Entry point for launching an IPython kernel.\n"
     ]
    }
   ],
   "source": [
    "final_pred[\"Encoding\"] = final_pred_encoding"
   ]
  },
  {
   "cell_type": "code",
   "execution_count": 46,
   "metadata": {},
   "outputs": [
    {
     "data": {
      "text/html": [
       "<div>\n",
       "<style scoped>\n",
       "    .dataframe tbody tr th:only-of-type {\n",
       "        vertical-align: middle;\n",
       "    }\n",
       "\n",
       "    .dataframe tbody tr th {\n",
       "        vertical-align: top;\n",
       "    }\n",
       "\n",
       "    .dataframe thead th {\n",
       "        text-align: right;\n",
       "    }\n",
       "</style>\n",
       "<table border=\"1\" class=\"dataframe\">\n",
       "  <thead>\n",
       "    <tr style=\"text-align: right;\">\n",
       "      <th></th>\n",
       "      <th>Pictures</th>\n",
       "      <th>Encoding</th>\n",
       "    </tr>\n",
       "  </thead>\n",
       "  <tbody>\n",
       "    <tr>\n",
       "      <td>0</td>\n",
       "      <td>[[[80, 79, 74], [56, 55, 50], [54, 53, 48], [4...</td>\n",
       "      <td>14</td>\n",
       "    </tr>\n",
       "    <tr>\n",
       "      <td>1</td>\n",
       "      <td>[[[10, 15, 19], [10, 15, 19], [11, 16, 19], [1...</td>\n",
       "      <td>0</td>\n",
       "    </tr>\n",
       "    <tr>\n",
       "      <td>2</td>\n",
       "      <td>[[[232, 231, 247], [250, 249, 255], [235, 234,...</td>\n",
       "      <td>9</td>\n",
       "    </tr>\n",
       "    <tr>\n",
       "      <td>3</td>\n",
       "      <td>[[[97, 75, 77], [98, 76, 78], [99, 77, 79], [1...</td>\n",
       "      <td>11</td>\n",
       "    </tr>\n",
       "    <tr>\n",
       "      <td>4</td>\n",
       "      <td>[[[19, 46, 55], [19, 46, 53], [20, 47, 54], [2...</td>\n",
       "      <td>3</td>\n",
       "    </tr>\n",
       "  </tbody>\n",
       "</table>\n",
       "</div>"
      ],
      "text/plain": [
       "                                            Pictures  Encoding\n",
       "0  [[[80, 79, 74], [56, 55, 50], [54, 53, 48], [4...        14\n",
       "1  [[[10, 15, 19], [10, 15, 19], [11, 16, 19], [1...         0\n",
       "2  [[[232, 231, 247], [250, 249, 255], [235, 234,...         9\n",
       "3  [[[97, 75, 77], [98, 76, 78], [99, 77, 79], [1...        11\n",
       "4  [[[19, 46, 55], [19, 46, 53], [20, 47, 54], [2...         3"
      ]
     },
     "execution_count": 46,
     "metadata": {},
     "output_type": "execute_result"
    }
   ],
   "source": [
    "final_pred.head()"
   ]
  },
  {
   "cell_type": "code",
   "execution_count": 47,
   "metadata": {},
   "outputs": [],
   "source": [
    "export_final_pred = final_pred.to_csv('final_pred.csv', index=None, header=True)"
   ]
  },
  {
   "cell_type": "code",
   "execution_count": null,
   "metadata": {},
   "outputs": [],
   "source": []
  }
 ],
 "metadata": {
  "kernelspec": {
   "display_name": "Python 3",
   "language": "python",
   "name": "python3"
  },
  "language_info": {
   "codemirror_mode": {
    "name": "ipython",
    "version": 3
   },
   "file_extension": ".py",
   "mimetype": "text/x-python",
   "name": "python",
   "nbconvert_exporter": "python",
   "pygments_lexer": "ipython3",
   "version": "3.7.4"
  }
 },
 "nbformat": 4,
 "nbformat_minor": 2
}
